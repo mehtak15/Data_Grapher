{
 "cells": [
  {
   "cell_type": "code",
   "execution_count": 1,
   "metadata": {},
   "outputs": [
    {
     "name": "stdout",
     "output_type": "stream",
     "text": [
      "$BMP,temp,21.234,press,1023.654,time,10150,alt,440.340,vel,0.0134\n",
      "$BMP,temp,22.346,press,1025.765,time,10162,alt,439.543,vel,0.0243\n",
      "$BMP,temp,21.908,press,1024.564,time,10169,alt,440.293,vel,0.0113\n",
      "$BMP,temp,21.658,press,1023.108,time,10173,alt,439.984,vel,0.0097\n",
      "$BMP,temp,21.234,press,1023.654,time,10150,alt,440.340,vel,0.0134\n",
      "$BMP,temp,22.346,press,1025.765,time,10162,alt,439.543,vel,0.0243\n",
      "$BMP,temp,21.908,press,1024.564,time,10169,alt,440.293,vel,0.0113\n",
      "$BMP,temp,21.658,press,1023.108,time,10173,alt,439.984,vel,0.0097\n",
      "$BMP,temp,21.234,press,1023.654,time,10150,alt,440.340,vel,0.0134\n",
      "$BMP,temp,22.346,press,1025.765,time,10162,alt,439.543,vel,0.0243\n",
      "$BMP,temp,21.908,press,1024.564,time,10169,alt,440.293,vel,0.0113\n",
      "$BMP,temp,21.658,press,1023.108,time,10173,alt,439.984,vel,0.0097\n",
      "$BMP,temp,21.234,press,1023.654,time,10150,alt,440.340,vel,0.0134\n",
      "$BMP,temp,22.346,press,1025.765,time,10162,alt,439.543,vel,0.0243\n",
      "$BMP,temp,21.908,press,1024.564,time,10169,alt,440.293,vel,0.0113\n",
      "$BMP,temp,21.658,press,1023.108,time,10173,alt,439.984,vel,0.0097\n",
      "$BMP,temp,21.234,press,1023.654,time,10150,alt,440.340,vel,0.0134\n",
      "$BMP,temp,22.346,press,1025.765,time,10162,alt,439.543,vel,0.0243\n",
      "$BMP,temp,21.908,press,1024.564,time,10169,alt,440.293,vel,0.0113\n",
      "$BMP,temp,21.658,press,1023.108,time,10173,alt,439.984,vel,0.0097\n",
      "$BMP,temp,21.234,press,1023.654,time,10150,alt,440.340,vel,0.0134\n",
      "$BMP,temp,22.346,press,1025.765,time,10162,alt,439.543,vel,0.0243\n",
      "$BMP,temp,21.908,press,1024.564,time,10169,alt,440.293,vel,0.0113\n",
      "$BMP,temp,21.658,press,1023.108,time,10173,alt,439.984,vel,0.0097\n",
      "$BMP,temp,21.234,press,1023.654,time,10150,alt,440.340,vel,0.0134\n",
      "$BMP,temp,22.346,press,1025.765,time,10162,alt,439.543,vel,0.0243\n",
      "$BMP,temp,21.908,press,1024.564,time,10169,alt,440.293,vel,0.0113\n",
      "$BMP,temp,21.658,press,1023.108,time,10173,alt,439.984,vel,0.0097\n",
      "$BMP,temp,21.234,press,1023.654,time,10150,alt,440.340,vel,0.0134\n",
      "$BMP,temp,22.346,press,1025.765,time,10162,alt,439.543,vel,0.0243\n",
      "$BMP,temp,21.908,press,1024.564,time,10169,alt,440.293,vel,0.0113\n",
      "$BMP,temp,21.658,press,1023.108,time,10173,alt,439.984,vel,0.0097\n",
      "$BMP,temp,21.234,press,1023.654,time,10150,alt,440.340,vel,0.0134\n",
      "$BMP,temp,22.346,press,1025.765,time,10162,alt,439.543,vel,0.0243\n",
      "$BMP,temp,21.908,press,1024.564,time,10169,alt,440.293,vel,0.0113\n",
      "$BMP,temp,21.658,press,1023.108,time,10173,alt,439.984,vel,0.0097\n",
      "$BMP,temp,21.234,press,1023.654,time,10150,alt,440.340,vel,0.0134\n",
      "$BMP,temp,22.346,press,1025.765,time,10162,alt,439.543,vel,0.0243\n",
      "$BMP,temp,21.908,press,1024.564,time,10169,alt,440.293,vel,0.0113\n",
      "$BMP,temp,21.658,press,1023.108,time,10173,alt,439.984,vel,0.0097\n",
      "$BMP,temp,21.234,press,1023.654,time,10150,alt,440.340,vel,0.0134\n",
      "$BMP,temp,22.346,press,1025.765,time,10162,alt,439.543,vel,0.0243\n",
      "$BMP,temp,21.908,press,1024.564,time,10169,alt,440.293,vel,0.0113\n",
      "$BMP,temp,21.658,press,1023.108,time,10173,alt,439.984,vel,0.0097\n",
      "$BMP,temp,21.234,press,1023.654,time,10150,alt,440.340,vel,0.0134\n",
      "$BMP,temp,22.346,press,1025.765,time,10162,alt,439.543,vel,0.0243\n",
      "$BMP,temp,21.908,press,1024.564,time,10169,alt,440.293,vel,0.0113\n",
      "$BMP,temp,21.658,press,1023.108,time,10173,alt,439.984,vel,0.0097\n",
      "$BMP,temp,21.234,press,1023.654,time,10150,alt,440.340,vel,0.0134\n",
      "$BMP,temp,22.346,press,1025.765,time,10162,alt,439.543,vel,0.0243\n",
      "$BMP,temp,21.908,press,1024.564,time,10169,alt,440.293,vel,0.0113\n",
      "$BMP,temp,21.658,press,1023.108,time,10173,alt,439.984,vel,0.0097\n",
      "$BMP,temp,21.234,press,1023.654,time,10150,alt,440.340,vel,0.0134\n",
      "$BMP,temp,22.346,press,1025.765,time,10162,alt,439.543,vel,0.0243\n",
      "$BMP,temp,21.908,press,1024.564,time,10169,alt,440.293,vel,0.0113\n",
      "$BMP,temp,21.658,press,1023.108,time,10173,alt,439.984,vel,0.0097\n",
      "$BMP,temp,21.234,press,1023.654,time,10150,alt,440.340,vel,0.0134\n",
      "$BMP,temp,22.346,press,1025.765,time,10162,alt,439.543,vel,0.0243\n",
      "$BMP,temp,21.908,press,1024.564,time,10169,alt,440.293,vel,0.0113\n",
      "$BMP,temp,21.658,press,1023.108,time,10173,alt,439.984,vel,0.0097\n",
      "$BMP,temp,21.234,press,1023.654,time,10150,alt,440.340,vel,0.0134\n",
      "$BMP,temp,22.346,press,1025.765,time,10162,alt,439.543,vel,0.0243\n",
      "$BMP,temp,21.908,press,1024.564,time,10169,alt,440.293,vel,0.0113\n",
      "$BMP,temp,21.658,press,1023.108,time,10173,alt,439.984,vel,0.0097\n",
      "\n"
     ]
    }
   ],
   "source": [
    "f = open(\"file.txt\",\"r\")\n",
    "\n",
    "f.close()\n",
    "\n",
    "\n",
    "\n",
    "\n",
    "\n",
    "print(f.read())\n",
    "\n",
    "for i in \n",
    "    \n",
    "f.split()"
   ]
  },
  {
   "cell_type": "code",
   "execution_count": null,
   "metadata": {
    "collapsed": true
   },
   "outputs": [],
   "source": []
  }
 ],
 "metadata": {
  "kernelspec": {
   "display_name": "Python 3",
   "language": "python",
   "name": "python3"
  },
  "language_info": {
   "codemirror_mode": {
    "name": "ipython",
    "version": 3
   },
   "file_extension": ".py",
   "mimetype": "text/x-python",
   "name": "python",
   "nbconvert_exporter": "python",
   "pygments_lexer": "ipython3",
   "version": "3.6.3"
  }
 },
 "nbformat": 4,
 "nbformat_minor": 2
}
